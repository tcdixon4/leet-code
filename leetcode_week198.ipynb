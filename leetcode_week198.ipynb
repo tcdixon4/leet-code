{
  "nbformat": 4,
  "nbformat_minor": 0,
  "metadata": {
    "colab": {
      "name": "leetcode_week198.ipynb",
      "provenance": [],
      "collapsed_sections": [],
      "authorship_tag": "ABX9TyNucMqROhVzAR5FRSWYkmb8",
      "include_colab_link": true
    },
    "kernelspec": {
      "name": "python3",
      "display_name": "Python 3"
    }
  },
  "cells": [
    {
      "cell_type": "markdown",
      "metadata": {
        "id": "view-in-github",
        "colab_type": "text"
      },
      "source": [
        "<a href=\"https://colab.research.google.com/github/tcdixon4/leet-code/blob/master/leetcode_week198.ipynb\" target=\"_parent\"><img src=\"https://colab.research.google.com/assets/colab-badge.svg\" alt=\"Open In Colab\"/></a>"
      ]
    },
    {
      "cell_type": "markdown",
      "metadata": {
        "id": "gCx4crHl7Sf1",
        "colab_type": "text"
      },
      "source": [
        "# Leetcode: Weekly Contest 198\n",
        "---\n",
        "1518. Water Bottles (3)\n",
        "1519. Number of Nodes in the Sub-Tree With the Same Label (5)\n",
        "1520. Maximum Number of Non-Overlapping Substrings (6)\n",
        "1521. Find a Value of a Mysterious Function Closest to Target (7)"
      ]
    },
    {
      "cell_type": "markdown",
      "metadata": {
        "id": "FNrzRHX-7yh3",
        "colab_type": "text"
      },
      "source": [
        "## Import dependencies"
      ]
    },
    {
      "cell_type": "code",
      "metadata": {
        "id": "W8EUc_Ct7utF",
        "colab_type": "code",
        "colab": {}
      },
      "source": [
        ""
      ],
      "execution_count": null,
      "outputs": []
    },
    {
      "cell_type": "markdown",
      "metadata": {
        "id": "351h2Thd72Iq",
        "colab_type": "text"
      },
      "source": [
        "## Water Bottles (3)"
      ]
    },
    {
      "cell_type": "markdown",
      "metadata": {
        "id": "1g6yz2Zz8DKI",
        "colab_type": "text"
      },
      "source": [
        "Given `numBottles` full water bottles, you can exchange `numExchange` empty water bottles for one full water bottle.\n",
        "The operation of drinking a full water bottle turns it into an empty bottle.\n",
        "Return the **maximum** number of water bottles you can drink.\n",
        "\n",
        "**Example 1**:\n",
        "``` \n",
        "Input: numBottles = 9, numExchange = 3\n",
        "Output: 13\n",
        "Explanation: You can exchange 3 empty bottles to get 1 full water bottle.\n",
        "Number of water bottles you can drink: 9 + 3 + 1 = 13.\n",
        "```\n",
        "\n",
        "**Example 2:**\n",
        "```\n",
        "Input: numBottles = 15, numExchange = 4\n",
        "Output: 19\n",
        "Explanation: You can exchange 4 empty bottles to get 1 full water bottle. \n",
        "Number of water bottles you can drink: 15 + 3 + 1 = 19.\n",
        " ```\n",
        "\n",
        " **Example 3:**\n",
        "```\n",
        "Input: numBottles = 5, numExchange = 5\n",
        "Output: 6\n",
        " ```\n",
        "\n",
        "  **Example 4:**\n",
        "```\n",
        "Input: numBottles = 2, numExchange = 3\n",
        "Output: 2\n",
        " ```\n",
        "\n",
        "**Constraints:**\n",
        "*   ```1 <= numBottles <= 100```\n",
        "*   ```2 <= numExchange <= 100```"
      ]
    },
    {
      "cell_type": "code",
      "metadata": {
        "id": "AUpgE8pl8CSj",
        "colab_type": "code",
        "colab": {}
      },
      "source": [
        "class Solution:\n",
        "    def numWaterBottles(self, numBottles: int, numExchange: int) -> int:\n",
        "        \n",
        "        total = numBottles # first drink\n",
        "        emptyBottles = numBottles # become empty\n",
        "        \n",
        "        while emptyBottles >= numExchange:\n",
        "            numBottles, leftover = divmod(emptyBottles, numExchange) # exchange\n",
        "            total += numBottles # drink\n",
        "            emptyBottles = leftover + numBottles # total empty\n",
        "            \n",
        "        return int(total)"
      ],
      "execution_count": null,
      "outputs": []
    },
    {
      "cell_type": "code",
      "metadata": {
        "id": "SpD6I6neFXVY",
        "colab_type": "code",
        "colab": {
          "base_uri": "https://localhost:8080/",
          "height": 34
        },
        "outputId": "8af4ca65-a21b-4d0b-8002-7d35bb16386b"
      },
      "source": [
        "Solution().numWaterBottles(9,3)"
      ],
      "execution_count": null,
      "outputs": [
        {
          "output_type": "execute_result",
          "data": {
            "text/plain": [
              "13"
            ]
          },
          "metadata": {
            "tags": []
          },
          "execution_count": 2
        }
      ]
    },
    {
      "cell_type": "markdown",
      "metadata": {
        "id": "AJqA0RJIFpVc",
        "colab_type": "text"
      },
      "source": [
        "Runtime: 24ms\n",
        "\n",
        "Memory Usage: 13.6MB"
      ]
    },
    {
      "cell_type": "markdown",
      "metadata": {
        "id": "VoojEuT2F4IF",
        "colab_type": "text"
      },
      "source": [
        "##Number of Nodes in the Sub-Tree With the Same Label (5)"
      ]
    },
    {
      "cell_type": "markdown",
      "metadata": {
        "id": "TaFNYnTgGASG",
        "colab_type": "text"
      },
      "source": [
        "Given a tree (i.e. a connected, undirected graph that has no cycles) consisting of `n` nodes numbered from `0` to `n - 1` and exactly `n - 1` `edges`. The **root** of the tree is the node `0`, and each node of the tree has a **label** which is a lower-case character given in the string `labels` (i.e. The node with the number `i` has the label `labels[i]`).\n",
        "\n",
        "The `edges` array is given on the form `edges[i] = [ai, bi]`, which means there is an edge between nodes `ai` and `bi` in the tree.\n",
        "\n",
        "Return an array of size `n` where `ans[i]` is the number of nodes in the subtree of the `ith` node which have the same label as node `i`.\n",
        "\n",
        "A subtree of a tree `T` is the tree consisting of a node in `T` and all of its descendant nodes.\n",
        "\n",
        "**Example 1**:\n",
        "``` \n",
        "Input: n = 7, edges = [[0,1],[0,2],[1,4],[1,5],[2,3],[2,6]], labels = \"abaedcd\"\n",
        "Output: [2,1,1,1,1,1,1]\n",
        "Explanation: Node 0 has label 'a' and its sub-tree has node 2 with label 'a' as well, thus the answer is 2. Notice that any node is part of its sub-tree.\n",
        "Node 1 has a label 'b'. The sub-tree of node 1 contains nodes 1,4 and 5, as nodes 4 and 5 have different labels than node 1, the answer is just 1 (the node itself).\n",
        "```\n",
        "\n",
        "**Example 2:**\n",
        "```\n",
        "Input: n = 4, edges = [[0,1],[1,2],[0,3]], labels = \"bbbb\"\n",
        "Output: [4,2,1,1]\n",
        "Explanation: The sub-tree of node 2 contains only node 2, so the answer is 1.\n",
        "The sub-tree of node 3 contains only node 3, so the answer is 1.\n",
        "The sub-tree of node 1 contains nodes 1 and 2, both have label 'b', thus the answer is 2.\n",
        "The sub-tree of node 0 contains nodes 0, 1, 2 and 3, all with label 'b', thus the answer is 4.\n",
        " ```\n",
        "\n",
        " **Example 3:**\n",
        "```\n",
        "Input: n = 5, edges = [[0,1],[0,2],[1,3],[0,4]], labels = \"aabab\"\n",
        "Output: [3,2,1,1,1]\n",
        " ```\n",
        "\n",
        "  **Example 4:**\n",
        "```\n",
        "Input: n = 6, edges = [[0,1],[0,2],[1,3],[3,4],[4,5]], labels = \"cbabaa\"\n",
        "Output: [1,2,1,1,2,1]\n",
        " ```\n",
        "\n",
        "   **Example 4:**\n",
        "```\n",
        "Input: n = 7, edges = [[0,1],[1,2],[2,3],[3,4],[4,5],[5,6]], labels = \"aaabaaa\"\n",
        "Output: [6,5,4,1,3,2,1]\n",
        " ```\n",
        "\n",
        "**Constraints:**\n",
        "*   ```1 <= n <= 10^5```\n",
        "*   ```edges.length == n - 1```\n",
        "*   ```edges[i].length == 2```\n",
        "*   ```0 <= ai, bi < n```\n",
        "*   ```ai != bi```\n",
        "*   ```labels.length == n```\n",
        "*   ```labels``` is consisting of only lower-case English letters\n",
        "\n"
      ]
    },
    {
      "cell_type": "code",
      "metadata": {
        "id": "997cuYQaFuCa",
        "colab_type": "code",
        "colab": {}
      },
      "source": [
        ""
      ],
      "execution_count": null,
      "outputs": []
    }
  ]
}